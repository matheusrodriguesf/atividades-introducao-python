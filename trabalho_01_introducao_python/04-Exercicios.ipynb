{
 "cells": [
  {
   "cell_type": "markdown",
   "metadata": {
    "collapsed": true
   },
   "source": [
    "# Exercícios\n",
    "<strong>Aluno: </strong> Matheus Rodrigues Fernandes Arcelino"
   ]
  },
  {
   "cell_type": "markdown",
   "metadata": {},
   "source": [
    "**Use <code>for</code>, .split(), e <code>if</code> para criar uma declaração que imprima palavras que começam com's':**"
   ]
  },
  {
   "cell_type": "code",
   "execution_count": 1,
   "metadata": {},
   "outputs": [],
   "source": [
    "st = 'Imprima apenas as palavras que começam com s nesta frase'"
   ]
  },
  {
   "cell_type": "code",
   "execution_count": 2,
   "metadata": {},
   "outputs": [
    {
     "name": "stdout",
     "output_type": "stream",
     "text": [
      "s\n"
     ]
    }
   ],
   "source": [
    "#Implemente aqui\n",
    "for i in st.split():\n",
    "    if i[0]== 's':\n",
    "        print(i)"
   ]
  },
  {
   "cell_type": "markdown",
   "metadata": {},
   "source": [
    "**Use range() para imprimir todos os números pares de 0 to 10.**"
   ]
  },
  {
   "cell_type": "code",
   "execution_count": 3,
   "metadata": {},
   "outputs": [
    {
     "name": "stdout",
     "output_type": "stream",
     "text": [
      "0\n",
      "2\n",
      "4\n",
      "6\n",
      "8\n",
      "10\n"
     ]
    }
   ],
   "source": [
    "#Implemente aqui\n",
    "for i in range(11):\n",
    "    if i%2 == 0:\n",
    "        print(i)"
   ]
  },
  {
   "cell_type": "markdown",
   "metadata": {},
   "source": [
    "___\n",
    "**Use uma compreensão de lista para criar uma lista de todos os números entre 1 e 50 que são divisíveis por 3.**"
   ]
  },
  {
   "cell_type": "code",
   "execution_count": 4,
   "metadata": {},
   "outputs": [
    {
     "data": {
      "text/plain": [
       "[3, 6, 9, 12, 15, 18, 21, 24, 27, 30, 33, 36, 39, 42, 45, 48]"
      ]
     },
     "execution_count": 4,
     "metadata": {},
     "output_type": "execute_result"
    }
   ],
   "source": [
    "#Implemente aqui\n",
    "lista_divisiveis = [numero for numero in range(1,51) if numero%3==0]\n",
    "lista_divisiveis"
   ]
  },
  {
   "cell_type": "markdown",
   "metadata": {},
   "source": [
    "** Passe pela string abaixo e, se o comprimento de uma palavra for impresso \"frase!\" **"
   ]
  },
  {
   "cell_type": "code",
   "execution_count": 5,
   "metadata": {},
   "outputs": [],
   "source": [
    "st = 'Imprima todas as palavras nesta frase com um número par de letras'"
   ]
  },
  {
   "cell_type": "code",
   "execution_count": 6,
   "metadata": {},
   "outputs": [
    {
     "name": "stdout",
     "output_type": "stream",
     "text": [
      "as - quantidade de letras: 2\n",
      "palavras - quantidade de letras: 8\n",
      "um - quantidade de letras: 2\n",
      "número - quantidade de letras: 6\n",
      "de - quantidade de letras: 2\n",
      "letras - quantidade de letras: 6\n"
     ]
    }
   ],
   "source": [
    "#Implemente aqui\n",
    "for i in st.split():\n",
    "    if len(i)%2==0:\n",
    "        print(\"{} - quantidade de letras: {}\".format(i,len(i)))"
   ]
  },
  {
   "cell_type": "markdown",
   "metadata": {},
   "source": [
    "**Escreva um programa que imprima os números inteiros de 1 a 100. Mas, para múltiplos de três, imprima \"Três\" em vez do número, e para os múltiplos de cinco, imprima \"Cinco\". Para números múltiplos de três e cinco, imprima \"TrêsCinco\".**"
   ]
  },
  {
   "cell_type": "code",
   "execution_count": 7,
   "metadata": {},
   "outputs": [
    {
     "name": "stdout",
     "output_type": "stream",
     "text": [
      "1\n",
      "2\n",
      "Três\n",
      "4\n",
      "Cinco\n",
      "Três\n",
      "7\n",
      "8\n",
      "Três\n",
      "Cinco\n",
      "11\n",
      "Três\n",
      "13\n",
      "14\n",
      "Três\n",
      "16\n",
      "17\n",
      "Três\n",
      "19\n",
      "Cinco\n",
      "Três\n",
      "22\n",
      "23\n",
      "Três\n",
      "Cinco\n",
      "26\n",
      "Três\n",
      "28\n",
      "29\n",
      "Três\n",
      "31\n",
      "32\n",
      "Três\n",
      "34\n",
      "Cinco\n",
      "Três\n",
      "37\n",
      "38\n",
      "Três\n",
      "Cinco\n",
      "41\n",
      "Três\n",
      "43\n",
      "44\n",
      "Três\n",
      "46\n",
      "47\n",
      "Três\n",
      "49\n",
      "Cinco\n",
      "Três\n",
      "52\n",
      "53\n",
      "Três\n",
      "Cinco\n",
      "56\n",
      "Três\n",
      "58\n",
      "59\n",
      "Três\n",
      "61\n",
      "62\n",
      "Três\n",
      "64\n",
      "Cinco\n",
      "Três\n",
      "67\n",
      "68\n",
      "Três\n",
      "Cinco\n",
      "71\n",
      "Três\n",
      "73\n",
      "74\n",
      "Três\n",
      "76\n",
      "77\n",
      "Três\n",
      "79\n",
      "Cinco\n",
      "Três\n",
      "82\n",
      "83\n",
      "Três\n",
      "Cinco\n",
      "86\n",
      "Três\n",
      "88\n",
      "89\n",
      "Três\n",
      "91\n",
      "92\n",
      "Três\n",
      "94\n",
      "Cinco\n",
      "Três\n",
      "97\n",
      "98\n",
      "Três\n",
      "Cinco\n"
     ]
    }
   ],
   "source": [
    "#Implemente aqui\n",
    "for i in range(1,101):\n",
    "    if i%3==0:\n",
    "        print(\"Três\")\n",
    "    elif i%5==0:\n",
    "        print(\"Cinco\")\n",
    "    elif (i%3==0) and (i%5==0):\n",
    "        print(\"TrêsCinco\")\n",
    "    else:\n",
    "        print(i)"
   ]
  },
  {
   "cell_type": "markdown",
   "metadata": {},
   "source": [
    "**Use Compreensão da lista para criar uma lista das primeiras letras de cada palavra na sequência abaixo:**"
   ]
  },
  {
   "cell_type": "code",
   "execution_count": 8,
   "metadata": {},
   "outputs": [],
   "source": [
    "st = 'Crie uma lista das primeiras letras de cada palavra nesta sequência'"
   ]
  },
  {
   "cell_type": "code",
   "execution_count": 9,
   "metadata": {},
   "outputs": [
    {
     "data": {
      "text/plain": [
       "['C', 'u', 'l', 'd', 'p', 'l', 'd', 'c', 'p', 'n', 's']"
      ]
     },
     "execution_count": 9,
     "metadata": {},
     "output_type": "execute_result"
    }
   ],
   "source": [
    "#Implemente aqui\n",
    "letras = [letra[0] for letra in st.split()]\n",
    "letras"
   ]
  }
 ],
 "metadata": {
  "kernelspec": {
   "display_name": "Python 3",
   "language": "python",
   "name": "python3"
  },
  "language_info": {
   "codemirror_mode": {
    "name": "ipython",
    "version": 3
   },
   "file_extension": ".py",
   "mimetype": "text/x-python",
   "name": "python",
   "nbconvert_exporter": "python",
   "pygments_lexer": "ipython3",
   "version": "3.7.4"
  }
 },
 "nbformat": 4,
 "nbformat_minor": 1
}
