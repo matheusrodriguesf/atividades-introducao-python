{
 "cells": [
  {
   "cell_type": "markdown",
   "metadata": {},
   "source": [
    "# Curso introdutório de Python - Exercícios\n",
    "\n",
    "Este é um exercício opcional para testar sua compreensão sobre o Python Basics. "
   ]
  },
  {
   "cell_type": "markdown",
   "metadata": {},
   "source": [
    "## Exercícios\n",
    "\n",
    "Responda as perguntas ou complete as tarefas descritas em negrito abaixo, use o método específico, se aplicável."
   ]
  },
  {
   "cell_type": "markdown",
   "metadata": {},
   "source": [
    "** Quanto é 7 elevado na potência 4?**"
   ]
  },
  {
   "cell_type": "code",
   "execution_count": 1,
   "metadata": {},
   "outputs": [
    {
     "data": {
      "text/plain": [
       "2401"
      ]
     },
     "execution_count": 1,
     "metadata": {},
     "output_type": "execute_result"
    }
   ],
   "source": [
    "7**4"
   ]
  },
  {
   "cell_type": "markdown",
   "metadata": {},
   "source": [
    "** Quebre a seguinte string em uma lista:**\n",
    "\n",
    "    s = \"Olá, Pai!\""
   ]
  },
  {
   "cell_type": "code",
   "execution_count": 2,
   "metadata": {
    "scrolled": true
   },
   "outputs": [
    {
     "data": {
      "text/plain": [
       "['Olá,', 'Pai!']"
      ]
     },
     "execution_count": 2,
     "metadata": {},
     "output_type": "execute_result"
    }
   ],
   "source": [
    "s = \"Olá, Pai!\"\n",
    "s.split()"
   ]
  },
  {
   "cell_type": "markdown",
   "metadata": {},
   "source": [
    "** Dada as variáveis:**\n",
    "\n",
    "    Planeta = \"Terra\"\n",
    "    Diametro = 12742\n",
    "\n",
    "** Use .format() para printar a seguinte frase: **\n",
    "\n",
    "    O diâmetro da terra é de 12742 kilômetros."
   ]
  },
  {
   "cell_type": "code",
   "execution_count": 3,
   "metadata": {},
   "outputs": [],
   "source": [
    "planeta = \"Terra\"\n",
    "diametro = 12742"
   ]
  },
  {
   "cell_type": "code",
   "execution_count": 4,
   "metadata": {},
   "outputs": [],
   "source": [
    "# print('O diâmetro da %s é de %d kilômetros.' %(planeta.lower(), diametro))"
   ]
  },
  {
   "cell_type": "code",
   "execution_count": 5,
   "metadata": {},
   "outputs": [
    {
     "name": "stdout",
     "output_type": "stream",
     "text": [
      "O diâmetro da terra é de 12742 kilômetros.\n"
     ]
    }
   ],
   "source": [
    "print(\"O diâmetro da {} é de {} kilômetros.\".format(planeta.lower(), diametro))"
   ]
  },
  {
   "cell_type": "markdown",
   "metadata": {},
   "source": [
    "** Dada a lista abaixo, use indexação para obter apenas a string \"ola\". **"
   ]
  },
  {
   "cell_type": "code",
   "execution_count": 6,
   "metadata": {},
   "outputs": [],
   "source": [
    "lst = [1,2,[3,4],[5,[100,200,['olá']],23,11],1,7]"
   ]
  },
  {
   "cell_type": "code",
   "execution_count": 7,
   "metadata": {},
   "outputs": [
    {
     "data": {
      "text/plain": [
       "'olá'"
      ]
     },
     "execution_count": 7,
     "metadata": {},
     "output_type": "execute_result"
    }
   ],
   "source": [
    "lst[3][1][2][0]"
   ]
  },
  {
   "cell_type": "markdown",
   "metadata": {},
   "source": [
    "** Dado o seguinte dicionário aninhado, extraia a palavra \"olá\" **"
   ]
  },
  {
   "cell_type": "code",
   "execution_count": 8,
   "metadata": {},
   "outputs": [],
   "source": [
    "d = {'k1':[1,2,3,{'café':['banana','mulher','colher',{'alvo':[1,2,3,'olá']}]}]}"
   ]
  },
  {
   "cell_type": "code",
   "execution_count": 11,
   "metadata": {},
   "outputs": [
    {
     "data": {
      "text/plain": [
       "'olá'"
      ]
     },
     "execution_count": 11,
     "metadata": {},
     "output_type": "execute_result"
    }
   ],
   "source": [
    "d['k1'][3]['café'][3]['alvo'][3]"
   ]
  },
  {
   "cell_type": "markdown",
   "metadata": {},
   "source": [
    "** Qual a principal diferença entre um dicionário e uma tupla? **"
   ]
  },
  {
   "cell_type": "markdown",
   "metadata": {
    "collapsed": true
   },
   "source": [
    "<p align=\"justify\"><strong>Tupla</strong> é uma estrutura de dados imutável do\n",
    "tipo coleção sequencial, onde os valores são ordenados da esquerda para a direita e utilizam números inteiros para se acessar os valores. Já o <strong>Dicionário</strong> é uma coleção do tipo mapeamento chave-valor ou seja temos uma relação entre a chave e o valor associado. As chaves são únicas em um dicionário, enquanto os valores podem não ser.  As entradas em um dicionário podem ser alteradas.  A chave funciona como um índice para acessar o conteúdo.</p>\n",
    "\n",
    "### Declaração \n",
    "<p align=\"justify\"> A sintaxe de uma tupla é definida atraves do uso de parênteses com valores separados por virgula:</p>\n",
    "<br>\n",
    "<strong>Exemplo:</strong>\n",
    "\n",
    "```\n",
    "tupla = (1,2,'a','s','d','f','Thanos','Pizza','Coca cola')\n",
    "\n",
    "```\n",
    "<p align=\"justify\"> A sintaxe de uma dicionário é definida atraves do uso de chaves({}) e separados de seu valor atraves de dois pontos(:)</p>\n",
    "\n",
    "\n",
    "<strong>Exemplo:</strong>\n",
    "\n",
    "```\n",
    "dicionario = {\"nome\":\"Thanos\", \"bebida\":\"Coca cola\"}\n",
    "\n",
    "```\n",
    "\n",
    "### Acessar os valores\n",
    "\n",
    "<p align=\"justify\"> O acesso a um valor de uma tupla é dado atraves de um valor inteiro</p>\n",
    "\n",
    "```\n",
    "tupla[6]\n",
    "\n",
    "```\n",
    "<p>Quando o código acima é executado, ele produz o seguinte resultado: <strong>'Thanos'</strong></p>\n",
    "\n",
    "\n",
    "<p align=\"justify\"> O acesso a um valor de uma dicionario é dado atraves da chave</p>\n",
    "\n",
    "\n",
    "```\n",
    "dicionario['bebida']\n",
    "\n",
    "```\n",
    "\n",
    "<p>Quando o código acima é executado, ele produz o seguinte resultado: <strong>'Coca cola'</strong></p>\n"
   ]
  }
 ],
 "metadata": {
  "kernelspec": {
   "display_name": "Python 3",
   "language": "python",
   "name": "python3"
  },
  "language_info": {
   "codemirror_mode": {
    "name": "ipython",
    "version": 3
   },
   "file_extension": ".py",
   "mimetype": "text/x-python",
   "name": "python",
   "nbconvert_exporter": "python",
   "pygments_lexer": "ipython3",
   "version": "3.7.4"
  }
 },
 "nbformat": 4,
 "nbformat_minor": 1
}
